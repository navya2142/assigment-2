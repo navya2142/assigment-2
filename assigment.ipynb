{
  "nbformat": 4,
  "nbformat_minor": 0,
  "metadata": {
    "colab": {
      "provenance": []
    },
    "kernelspec": {
      "name": "python3",
      "display_name": "Python 3"
    },
    "language_info": {
      "name": "python"
    }
  },
  "cells": [
    {
      "cell_type": "markdown",
      "source": [
        "\n",
        "python assigmentQ1\n"
      ],
      "metadata": {
        "id": "OPaq0lKu-1tP"
      }
    },
    {
      "cell_type": "markdown",
      "source": [
        "# Q1"
      ],
      "metadata": {
        "id": "Hn-RVL7h-_KS"
      }
    },
    {
      "cell_type": "code",
      "execution_count": null,
      "metadata": {
        "id": "AENBICWr9jPK"
      },
      "outputs": [],
      "source": [
        "import numpy as np"
      ]
    },
    {
      "cell_type": "code",
      "source": [
        "import pandas as pd"
      ],
      "metadata": {
        "id": "hVm7aqyaExOH"
      },
      "execution_count": 1,
      "outputs": []
    },
    {
      "cell_type": "markdown",
      "source": [
        "Q1"
      ],
      "metadata": {
        "id": "k6kVJBFfE5il"
      }
    },
    {
      "cell_type": "code",
      "source": [
        "radius=float(input('enter the radius'))\n",
        "area=3.14*radius**2\n",
        "print('area of circle is:',area)"
      ],
      "metadata": {
        "id": "s9h6t9Cp_K4s",
        "colab": {
          "base_uri": "https://localhost:8080/"
        },
        "outputId": "23c8d1b8-116f-4dfc-8e74-95717c018706"
      },
      "execution_count": 2,
      "outputs": [
        {
          "output_type": "stream",
          "name": "stdout",
          "text": [
            "enter the radius5\n",
            "area of circle is: 78.5\n"
          ]
        }
      ]
    },
    {
      "cell_type": "markdown",
      "source": [
        "Q2"
      ],
      "metadata": {
        "id": "zm4gGBDLFZPF"
      }
    },
    {
      "cell_type": "code",
      "source": [
        "name=input('enter the name')\n",
        "rollnum=int(input('enter the roll number'))\n",
        "mark=int(input('enter the marks'))\n",
        "print('name:',name,'\\n','rollno:',rollnum,'\\n','mark:',mark)\n"
      ],
      "metadata": {
        "colab": {
          "base_uri": "https://localhost:8080/"
        },
        "id": "ScsdvNM4FVCd",
        "outputId": "fdca2831-ee7b-437c-9712-e1d5c3428934"
      },
      "execution_count": 4,
      "outputs": [
        {
          "output_type": "stream",
          "name": "stdout",
          "text": [
            "enter the nameanisha\n",
            "enter the roll number21\n",
            "enter the marks78\n",
            "name: anisha \n",
            " rollno: 21 \n",
            " mark: 78\n"
          ]
        }
      ]
    },
    {
      "cell_type": "markdown",
      "source": [
        "Q3"
      ],
      "metadata": {
        "id": "B-5FtO4aGWoZ"
      }
    },
    {
      "cell_type": "code",
      "source": [
        "number=[12,3,47,10]\n",
        "m=max(number)\n",
        "print(m,'is the largest number')"
      ],
      "metadata": {
        "colab": {
          "base_uri": "https://localhost:8080/"
        },
        "id": "mraCsFpcGLsL",
        "outputId": "70fb590c-88c4-410e-a75d-bd6b32b181a2"
      },
      "execution_count": 5,
      "outputs": [
        {
          "output_type": "stream",
          "name": "stdout",
          "text": [
            "47 is the largest number\n"
          ]
        }
      ]
    },
    {
      "cell_type": "markdown",
      "source": [
        "Q4"
      ],
      "metadata": {
        "id": "g46sthVMH6N1"
      }
    },
    {
      "cell_type": "code",
      "source": [
        "n=[1,2,3,4,5,6,7,8,9,10]\n",
        "previous_num=0\n",
        "for i in range(0,len(n)):\n",
        "  sum=i +previous_num\n",
        "  print('current number:',i)\n",
        "  print('previous number:',previous_num)\n",
        "  print('sum',sum)\n",
        "  previous_num=i"
      ],
      "metadata": {
        "colab": {
          "base_uri": "https://localhost:8080/"
        },
        "id": "ZeEpaXDzG-cZ",
        "outputId": "3f53cf2e-a532-47c0-953d-615acc8ab6df"
      },
      "execution_count": 7,
      "outputs": [
        {
          "output_type": "stream",
          "name": "stdout",
          "text": [
            "current number: 0\n",
            "previous number: 0\n",
            "sum 0\n",
            "current number: 1\n",
            "previous number: 0\n",
            "sum 1\n",
            "current number: 2\n",
            "previous number: 1\n",
            "sum 3\n",
            "current number: 3\n",
            "previous number: 2\n",
            "sum 5\n",
            "current number: 4\n",
            "previous number: 3\n",
            "sum 7\n",
            "current number: 5\n",
            "previous number: 4\n",
            "sum 9\n",
            "current number: 6\n",
            "previous number: 5\n",
            "sum 11\n",
            "current number: 7\n",
            "previous number: 6\n",
            "sum 13\n",
            "current number: 8\n",
            "previous number: 7\n",
            "sum 15\n",
            "current number: 9\n",
            "previous number: 8\n",
            "sum 17\n"
          ]
        }
      ]
    },
    {
      "cell_type": "markdown",
      "source": [
        "Q5"
      ],
      "metadata": {
        "id": "TSOEroKVI3Tg"
      }
    },
    {
      "cell_type": "code",
      "source": [
        "n= int(input('enter a number'))\n",
        "if  n>1:\n",
        "  for i in range(2,n):\n",
        "    if (n%i) ==0:\n",
        "      print(n,'is not a prime number')\n",
        "      break\n",
        "  else:\n",
        "    print(n,'is a prime number')\n",
        "else:\n",
        "  print(n,'not a prime number')"
      ],
      "metadata": {
        "colab": {
          "base_uri": "https://localhost:8080/"
        },
        "id": "OjV-fjAtI0qu",
        "outputId": "9ac3312c-f89f-405b-c0bb-7dd552d25eff"
      },
      "execution_count": 12,
      "outputs": [
        {
          "output_type": "stream",
          "name": "stdout",
          "text": [
            "enter a number3\n",
            "3 is a prime number\n"
          ]
        }
      ]
    },
    {
      "cell_type": "markdown",
      "source": [
        "q6"
      ],
      "metadata": {
        "id": "GMKhpO_qLqed"
      }
    },
    {
      "cell_type": "code",
      "source": [
        "orginal_list=[10,40,30,70]\n",
        "reverse_list = []\n",
        "for i in range(1,len(orginal_list)):\n",
        "  reverse_list.append(orginal_list[i])\n",
        "\n",
        "\n",
        "print(reverse_list)"
      ],
      "metadata": {
        "colab": {
          "base_uri": "https://localhost:8080/"
        },
        "id": "MTVq6kQFJvBS",
        "outputId": "e1e85456-c2ae-42f2-f281-b84cc56a23f4"
      },
      "execution_count": 30,
      "outputs": [
        {
          "output_type": "stream",
          "name": "stdout",
          "text": [
            "[40, 30, 70]\n"
          ]
        }
      ]
    },
    {
      "cell_type": "markdown",
      "source": [
        "Q7"
      ],
      "metadata": {
        "id": "8hjtNmZ3OBoi"
      }
    },
    {
      "cell_type": "code",
      "source": [
        "n=4\n",
        "for i in range (0,n):\n",
        "    for j in range (0,i,+1):\n",
        "        print('*',end='')\n",
        "    print('')"
      ],
      "metadata": {
        "colab": {
          "base_uri": "https://localhost:8080/"
        },
        "id": "yLtTdJO9MnCa",
        "outputId": "a7b391e8-c067-44e4-dbc8-668be948e825"
      },
      "execution_count": 31,
      "outputs": [
        {
          "output_type": "stream",
          "name": "stdout",
          "text": [
            "\n",
            "*\n",
            "**\n",
            "***\n"
          ]
        }
      ]
    },
    {
      "cell_type": "markdown",
      "source": [
        "Q"
      ],
      "metadata": {
        "id": "k1kQ7hqFOtGR"
      }
    },
    {
      "cell_type": "code",
      "source": [
        "num1=float(input('enter the first number'))\n",
        "num2=float(input('enter the second number'))\n",
        "num3=float(input('enter the third number'))\n",
        "\n",
        "if (num1>num2 and num1>num3):\n",
        "  print(num1,'is largest')\n",
        "elif(num2>num1 and num2>num3):\n",
        "  print(num2,'is largest')\n",
        "else:\n",
        "  print(num3,'is largest')"
      ],
      "metadata": {
        "colab": {
          "base_uri": "https://localhost:8080/"
        },
        "id": "_nELQnPLOspF",
        "outputId": "dd9beda7-2479-48ae-ea06-c369ca6651cf"
      },
      "execution_count": 32,
      "outputs": [
        {
          "output_type": "stream",
          "name": "stdout",
          "text": [
            "enter the first number67\n",
            "enter the second number98\n",
            "enter the third number45\n",
            "98.0 is largest\n"
          ]
        }
      ]
    },
    {
      "cell_type": "markdown",
      "source": [
        "Q"
      ],
      "metadata": {
        "id": "TnadXG8XQS7i"
      }
    },
    {
      "cell_type": "code",
      "source": [
        "n=5\n",
        "for i in range (0,n):\n",
        "    for j in range (0,i+1):\n",
        "        print('*',end='')\n",
        "print('')"
      ],
      "metadata": {
        "colab": {
          "base_uri": "https://localhost:8080/"
        },
        "id": "L1YfoTBFOoJE",
        "outputId": "9075dc10-e132-4601-abf4-7f6466c41e57"
      },
      "execution_count": 33,
      "outputs": [
        {
          "output_type": "stream",
          "name": "stdout",
          "text": [
            "***************\n"
          ]
        }
      ]
    },
    {
      "cell_type": "code",
      "source": [],
      "metadata": {
        "id": "xirj5W6VQuRG"
      },
      "execution_count": null,
      "outputs": []
    }
  ]
}