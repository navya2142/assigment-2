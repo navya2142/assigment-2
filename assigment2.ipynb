{
  "nbformat": 4,
  "nbformat_minor": 0,
  "metadata": {
    "colab": {
      "provenance": []
    },
    "kernelspec": {
      "name": "python3",
      "display_name": "Python 3"
    },
    "language_info": {
      "name": "python"
    }
  },
  "cells": [
    {
      "cell_type": "code",
      "source": [
        "import numpy as np"
      ],
      "metadata": {
        "id": "GBxhDyLYV5n6"
      },
      "execution_count": null,
      "outputs": []
    },
    {
      "cell_type": "code",
      "source": [
        "import pandas as pd"
      ],
      "metadata": {
        "id": "mT50QMV7vRaV"
      },
      "execution_count": null,
      "outputs": []
    },
    {
      "cell_type": "code",
      "source": [
        "n= input('enter a string')\n",
        "s={}\n",
        "for i in n:\n",
        "    if i in s:\n",
        "        s[i] += 1\n",
        "    else:\n",
        "        s[i] = 1\n",
        "print(s)\n"
      ],
      "metadata": {
        "colab": {
          "base_uri": "https://localhost:8080/"
        },
        "id": "jg9HE5LLvXEK",
        "outputId": "c527989a-1d27-4a83-c34d-f6bdf7fcdc95"
      },
      "execution_count": null,
      "outputs": [
        {
          "output_type": "stream",
          "name": "stdout",
          "text": [
            "enter a stringassembley\n",
            "{'a': 1, 's': 2, 'e': 2, 'm': 1, 'b': 1, 'l': 1, 'y': 1}\n"
          ]
        }
      ]
    },
    {
      "cell_type": "code",
      "source": [
        "#QUE"
      ],
      "metadata": {
        "id": "Qu77HkU98l7-"
      },
      "execution_count": null,
      "outputs": []
    },
    {
      "cell_type": "code",
      "source": [
        "data=[34,12,17]\n",
        "data"
      ],
      "metadata": {
        "colab": {
          "base_uri": "https://localhost:8080/"
        },
        "id": "iD9Fk_fnX3Hn",
        "outputId": "5f73bba4-da65-4c27-850e-f8670b426ebb"
      },
      "execution_count": null,
      "outputs": [
        {
          "output_type": "execute_result",
          "data": {
            "text/plain": [
              "[34, 12, 17]"
            ]
          },
          "metadata": {},
          "execution_count": 6
        }
      ]
    },
    {
      "cell_type": "code",
      "source": [
        "data=np.array([34,12,17])\n",
        "data"
      ],
      "metadata": {
        "colab": {
          "base_uri": "https://localhost:8080/"
        },
        "id": "jGb95iVVYIrS",
        "outputId": "22fead52-d679-4d8a-998e-e94fe44c51c4"
      },
      "execution_count": null,
      "outputs": [
        {
          "output_type": "execute_result",
          "data": {
            "text/plain": [
              "array([34, 12, 17])"
            ]
          },
          "metadata": {},
          "execution_count": 16
        }
      ]
    },
    {
      "cell_type": "code",
      "source": [
        "data.max()\n"
      ],
      "metadata": {
        "colab": {
          "base_uri": "https://localhost:8080/"
        },
        "id": "1fDLUuDDxuKL",
        "outputId": "5c2e97c0-05bc-4bd6-8d1c-2367e792193f"
      },
      "execution_count": null,
      "outputs": [
        {
          "output_type": "execute_result",
          "data": {
            "text/plain": [
              "34"
            ]
          },
          "metadata": {},
          "execution_count": 17
        }
      ]
    },
    {
      "cell_type": "markdown",
      "source": [
        "write a python function called exponent (base,exp) that returs an interger value of base raises to the power of exp.\n"
      ],
      "metadata": {
        "id": "Pgo2OKMtyqbN"
      }
    },
    {
      "cell_type": "code",
      "source": [
        "def exponent (base,exp):\n",
        "  s=base**exp\n",
        "print(s)"
      ],
      "metadata": {
        "colab": {
          "base_uri": "https://localhost:8080/"
        },
        "id": "VJ0Hj40dzGFB",
        "outputId": "5d81274d-f456-4e00-9bc6-bfe9cb494444"
      },
      "execution_count": null,
      "outputs": [
        {
          "output_type": "stream",
          "name": "stdout",
          "text": [
            "{'a': 1, 's': 2, 'e': 2, 'm': 1, 'b': 1, 'l': 1, 'y': 1}\n"
          ]
        }
      ]
    },
    {
      "cell_type": "code",
      "source": [
        "base=int(input('enter a base'))\n",
        "exp=int(input('enter the exponent'))\n",
        "exponent(base,exp)\n",
        "s=base**exp\n",
        "print(s)"
      ],
      "metadata": {
        "colab": {
          "base_uri": "https://localhost:8080/"
        },
        "id": "HZ30L_olzjaV",
        "outputId": "c1f35fd4-3c6b-4f37-abc0-151197a66fa8"
      },
      "execution_count": null,
      "outputs": [
        {
          "output_type": "stream",
          "name": "stdout",
          "text": [
            "enter a base3\n",
            "enter the exponent2\n",
            "9\n"
          ]
        }
      ]
    },
    {
      "cell_type": "markdown",
      "source": [
        "write a python function that takes a postive integer and returs the sum of the cubes of all the postive intergers smaller than the specified number."
      ],
      "metadata": {
        "id": "UC-CGiWl0mG2"
      }
    },
    {
      "cell_type": "code",
      "source": [
        "def positive_number(num):\n",
        "    cubes = 0\n",
        "    for i in range(1, num):\n",
        "        cubes += i**3  # use += to accumulate the sum of cubes\n",
        "    print(cubes)"
      ],
      "metadata": {
        "id": "o9CklQblz5B1"
      },
      "execution_count": null,
      "outputs": []
    },
    {
      "cell_type": "code",
      "source": [
        "positive_number(5)"
      ],
      "metadata": {
        "colab": {
          "base_uri": "https://localhost:8080/"
        },
        "id": "_iCGLzDC3Cdz",
        "outputId": "7e0a189f-3264-4f84-8871-1e3abc2071da"
      },
      "execution_count": null,
      "outputs": [
        {
          "output_type": "stream",
          "name": "stdout",
          "text": [
            "100\n"
          ]
        }
      ]
    },
    {
      "cell_type": "markdown",
      "source": [
        "write a python program which iterates from 1 to 10...."
      ],
      "metadata": {
        "id": "4QqvvsyG3Pey"
      }
    },
    {
      "cell_type": "code",
      "source": [
        "n=11\n",
        "for i in range (1,n):\n",
        "  if i%2==0:\n",
        "    print('fizz')\n",
        "  elif (i%5==0):\n",
        "    print('buzz')\n",
        "  elif(i%2==0 and i%5==0):\n",
        "    print('fizzbuzz')\n",
        "  else:\n",
        "    print(i)"
      ],
      "metadata": {
        "colab": {
          "base_uri": "https://localhost:8080/"
        },
        "id": "01AOxHT210AJ",
        "outputId": "621a6154-fb52-400c-bd8d-058d02c58622"
      },
      "execution_count": null,
      "outputs": [
        {
          "output_type": "stream",
          "name": "stdout",
          "text": [
            "1\n",
            "fizz\n",
            "3\n",
            "fizz\n",
            "buzz\n",
            "fizz\n",
            "7\n",
            "fizz\n",
            "9\n",
            "fizz\n"
          ]
        }
      ]
    },
    {
      "cell_type": "markdown",
      "source": [
        "write a python program to find the most frequent item a list of number"
      ],
      "metadata": {
        "id": "V-twUlNQ4c9N"
      }
    },
    {
      "cell_type": "code",
      "source": [
        "n=[2,3,4,2,5,2]\n",
        "max=0\n",
        "res=n[0]\n",
        "for i in n:\n",
        "  freq=n.count(i)\n",
        "  if freq>max:\n",
        "    max=freq\n",
        "    res=i\n",
        "print(res)\n"
      ],
      "metadata": {
        "colab": {
          "base_uri": "https://localhost:8080/"
        },
        "id": "K1WSSFIi4cRG",
        "outputId": "70566b8a-79b6-49d4-c538-3a881d9efdb2"
      },
      "execution_count": null,
      "outputs": [
        {
          "output_type": "stream",
          "name": "stdout",
          "text": [
            "2\n"
          ]
        }
      ]
    },
    {
      "cell_type": "markdown",
      "source": [
        "write a python program to find the sum of squares of the numbers in alist"
      ],
      "metadata": {
        "id": "E6-ClCXI5Zsa"
      }
    },
    {
      "cell_type": "code",
      "source": [
        "n=[2,1,3,1]\n",
        "res=0\n",
        "for i in n:\n",
        "  res= res + i**2\n",
        "print(res)"
      ],
      "metadata": {
        "colab": {
          "base_uri": "https://localhost:8080/"
        },
        "id": "8n_8KjjO4YW3",
        "outputId": "698d7574-e9e0-4643-c1dd-56414a01a0ca"
      },
      "execution_count": null,
      "outputs": [
        {
          "output_type": "stream",
          "name": "stdout",
          "text": [
            "15\n"
          ]
        }
      ]
    },
    {
      "cell_type": "markdown",
      "source": [
        "write a python program using for the loop that will iterate from 1to 15 for each iteration, check if the current number is odd or even, and display the message to the screen as odd or even.s"
      ],
      "metadata": {
        "id": "FjJdbj5f6Gsx"
      }
    },
    {
      "cell_type": "code",
      "source": [
        "n=15\n",
        "for i in range (1,n+1):\n",
        "  if i%2==0:\n",
        "    print(i,'-even')\n",
        "  elif (i%3==0):\n",
        "    print(i,'-odd')\n",
        "  else:\n",
        "    print(i)"
      ],
      "metadata": {
        "colab": {
          "base_uri": "https://localhost:8080/"
        },
        "id": "ZFVKOO_A51iU",
        "outputId": "6a08e591-bff5-4a7e-bf90-e681409e26d2"
      },
      "execution_count": null,
      "outputs": [
        {
          "output_type": "stream",
          "name": "stdout",
          "text": [
            "1\n",
            "2 -even\n",
            "3 -odd\n",
            "4 -even\n",
            "5\n",
            "6 -even\n",
            "7\n",
            "8 -even\n",
            "9 -odd\n",
            "10 -even\n",
            "11\n",
            "12 -even\n",
            "13\n",
            "14 -even\n",
            "15 -odd\n"
          ]
        }
      ]
    },
    {
      "cell_type": "markdown",
      "source": [
        "writ a python program to convert......."
      ],
      "metadata": {
        "id": "v2Iu8zI88LZU"
      }
    },
    {
      "cell_type": "code",
      "source": [
        "print('optionsd are \\n')\n",
        "print('1.convert temperatures from celsius to fahrenheit')\n",
        "print('2.convert temperatures from fahrenheit to celsius')\n",
        "opt=int(input('choose any option(1 or 2)'))\n",
        "if opt == 1:\n",
        "   print('convert temperatures from celsius to fahrenheit')\n",
        "   cel=float(input('enter temperatures in celsius'))\n",
        "   fahr =(cel*9/5)+32\n",
        "   print('temperature in fahrenheit')\n",
        "elif opt ==2:\n",
        "  print('convert temperatures from fahrenheit to celsius')\n",
        "  fahr=float(input('enter temperatures in fahreheit'))\n",
        "  cel=(fahr-32)*5/9\n",
        "  print('temperature in celsius')\n",
        "else:\n",
        "  print('invalid option')\n",
        "\n",
        "\n"
      ],
      "metadata": {
        "id": "UOk69MjX76EW",
        "colab": {
          "base_uri": "https://localhost:8080/"
        },
        "outputId": "0f6d8725-6698-47be-c2c1-fdbb5a89893b"
      },
      "execution_count": 42,
      "outputs": [
        {
          "output_type": "stream",
          "name": "stdout",
          "text": [
            "optionsd are \n",
            "\n",
            "1.convert temperatures from celsius to fahrenheit\n",
            "2.convert temperatures from fahrenheit to celsius\n",
            "choose any option(1 or 2)1\n",
            "convert temperatures from celsius to fahrenheit\n",
            "enter temperatures in celsius35\n",
            "temperature in fahrenheit\n"
          ]
        }
      ]
    },
    {
      "cell_type": "markdown",
      "source": [
        " write apython fn to calculate the factorial of a number ...."
      ],
      "metadata": {
        "id": "ySWkwIuzCqkp"
      }
    },
    {
      "cell_type": "code",
      "source": [
        "def factorial(num):\n",
        "  factorial=1\n",
        "  for i in range(1,num+1):\n",
        "    if num<0:\n",
        "      print('not valid')\n",
        "    elif(num>1):\n",
        "      factorial=factorial*i # multiply fact by i, not 1\n",
        "print(factorial)# indent this line to be inside the function"
      ],
      "metadata": {
        "colab": {
          "base_uri": "https://localhost:8080/"
        },
        "id": "cDJk7cHWCiBZ",
        "outputId": "c72cec57-13ee-4de6-e21e-176bd376471f"
      },
      "execution_count": 55,
      "outputs": [
        {
          "output_type": "stream",
          "name": "stdout",
          "text": [
            "<function factorial at 0x7cba7b90b130>\n"
          ]
        }
      ]
    },
    {
      "cell_type": "code",
      "source": [],
      "metadata": {
        "id": "9zMZIK8iDUDU"
      },
      "execution_count": null,
      "outputs": []
    }
  ]
}